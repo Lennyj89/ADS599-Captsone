{
 "cells": [
  {
   "cell_type": "markdown",
   "metadata": {},
   "source": [
    "# Assignment 5.1\n",
    "### Leonard Littleton and Andrew Zazueta"
   ]
  },
  {
   "cell_type": "markdown",
   "metadata": {},
   "source": [
    "### Libraries"
   ]
  },
  {
   "cell_type": "code",
   "execution_count": 3,
   "metadata": {},
   "outputs": [],
   "source": [
    "import pandas as pd\n",
    "from imblearn.over_sampling import SMOTE\n",
    "from imblearn.under_sampling import RandomUnderSampler\n",
    "from imblearn.pipeline import Pipeline\n",
    "from sklearn.model_selection import train_test_split\n",
    "from sklearn.naive_bayes import GaussianNB\n",
    "from sklearn.linear_model import LogisticRegression\n",
    "from sklearn.ensemble import RandomForestClassifier\n",
    "from sklearn.neural_network import MLPClassifier\n",
    "from sklearn.metrics import accuracy_score\n",
    "from sklearn.metrics import roc_auc_score\n",
    "from sklearn.metrics import auc\n",
    "from sklearn.metrics import roc_curve\n",
    "from sklearn.metrics import classification_report\n",
    "import xgboost as xgb\n",
    "from xgboost import XGBClassifier\n",
    "import matplotlib.pyplot as plt\n",
    "import numpy as np\n",
    "from sklearn.model_selection import GridSearchCV, RandomizedSearchCV\n",
    "#from sklearn.inspection import permutation_importanc"
   ]
  },
  {
   "cell_type": "markdown",
   "metadata": {},
   "source": [
    "### Reading cleaned data"
   ]
  },
  {
   "cell_type": "code",
   "execution_count": 4,
   "metadata": {},
   "outputs": [],
   "source": [
    "df_modeling = pd.read_csv('capstone_df_cleaned.csv')"
   ]
  },
  {
   "cell_type": "markdown",
   "metadata": {},
   "source": [
    "### Splitting Data into Training, Validation, and Testing Data Sets"
   ]
  },
  {
   "cell_type": "markdown",
   "metadata": {},
   "source": [
    "Since our data is imbalanced with X% of the data being churned participants, we will need to resmaple our trianing set before we can build our models"
   ]
  },
  {
   "cell_type": "code",
   "execution_count": 5,
   "metadata": {},
   "outputs": [],
   "source": [
    "# Our X will be all columns excluding the response feature and participant identification feature\n",
    "X = df_modeling.drop(['Certification Flag', 'Participant Key'], axis = 1)\n",
    "y = df_modeling['Certification Flag']\n",
    "\n",
    "# Splitting data into a training set, validation set, and testing set with.\n",
    "# The 'stratify' argument ensures that an equal % of chruned/unchurned go into each data set.\n",
    "train_X, rem_X, train_y, rem_y = train_test_split(X, y, train_size=0.7, random_state=42, stratify = y)\n",
    "valid_X, test_X, valid_y, test_y = train_test_split(rem_X, rem_y, train_size=0.5, random_state=42, stratify = rem_y)"
   ]
  },
  {
   "cell_type": "markdown",
   "metadata": {},
   "source": [
    "### Resampling imbalanced data"
   ]
  },
  {
   "cell_type": "code",
   "execution_count": 6,
   "metadata": {},
   "outputs": [
    {
     "name": "stdout",
     "output_type": "stream",
     "text": [
      "0.9147781023351534\n",
      "0.9147747625640181\n",
      "0.9147747625640181\n"
     ]
    }
   ],
   "source": [
    "# Distribution of y in data sets to ensure the % is equal\n",
    "\n",
    "print(train_y.value_counts()[0]/len(train_y))\n",
    "print(valid_y.value_counts()[0]/len(valid_y))\n",
    "print(test_y.value_counts()[0]/len(test_y))"
   ]
  },
  {
   "cell_type": "code",
   "execution_count": 6,
   "metadata": {},
   "outputs": [],
   "source": [
    "#### Resampling stratgey: SMOTE (Synthetic Minority Oversampling Technique) with Random Undersampling\n",
    "\n",
    "# creating pipeline\n",
    "over = SMOTE(sampling_strategy=0.1, random_state = 42)\n",
    "# sampling_strategy = 1 means both classes will be exactly balanced\n",
    "under = RandomUnderSampler(sampling_strategy=1, random_state = 42) \n",
    "steps = [('o', over), ('u', under)]\n",
    "pipeline = Pipeline(steps = steps)\n",
    "\n",
    "# resampling data set\n",
    "train_X, train_y = pipeline.fit_resample(train_X, train_y)"
   ]
  },
  {
   "cell_type": "code",
   "execution_count": 7,
   "metadata": {},
   "outputs": [
    {
     "name": "stdout",
     "output_type": "stream",
     "text": [
      "1    44094\n",
      "0    44094\n",
      "Name: Certification Flag, dtype: int64\n"
     ]
    }
   ],
   "source": [
    "# seeing new distribution of y\n",
    "\n",
    "print(train_y.value_counts())"
   ]
  },
  {
   "cell_type": "markdown",
   "metadata": {},
   "source": [
    "### Modeling"
   ]
  },
  {
   "cell_type": "markdown",
   "metadata": {},
   "source": [
    "#### Baseline Models"
   ]
  },
  {
   "cell_type": "markdown",
   "metadata": {},
   "source": [
    "##### Naive Bayes"
   ]
  },
  {
   "cell_type": "code",
   "execution_count": 27,
   "metadata": {},
   "outputs": [
    {
     "name": "stdout",
     "output_type": "stream",
     "text": [
      "Accuracy Score -  0.6133641846821117\n",
      "              precision    recall  f1-score   support\n",
      "\n",
      "           0       0.99      0.58      0.73     94488\n",
      "           1       0.18      0.96      0.30      8803\n",
      "\n",
      "    accuracy                           0.61    103291\n",
      "   macro avg       0.58      0.77      0.52    103291\n",
      "weighted avg       0.92      0.61      0.70    103291\n",
      "\n"
     ]
    }
   ],
   "source": [
    "nb = GaussianNB()\n",
    "nb.fit(train_X, train_y)\n",
    "y_pred_valid = nb.predict(valid_X)\n",
    "print('Accuracy Score - ', accuracy_score(valid_y, y_pred_valid))\n",
    "print(classification_report(valid_y, y_pred_valid))"
   ]
  },
  {
   "cell_type": "markdown",
   "metadata": {},
   "source": [
    "This model gives us a good idea for the minium accuracy we want to beat for the following models. Naive Bayes produced a 61% accuracy in predicting churned participants, which is much lower than the baseline accuracy of 91% (the accuracy of a model that only predicts 'churned')."
   ]
  },
  {
   "cell_type": "markdown",
   "metadata": {},
   "source": [
    "#### Other Models"
   ]
  },
  {
   "cell_type": "markdown",
   "metadata": {},
   "source": [
    "##### Logistic Regression"
   ]
  },
  {
   "cell_type": "code",
   "execution_count": 10,
   "metadata": {},
   "outputs": [
    {
     "name": "stdout",
     "output_type": "stream",
     "text": [
      "Accuracy Score -  0.8867471512522872\n",
      "              precision    recall  f1-score   support\n",
      "\n",
      "           0       1.00      0.88      0.93     94488\n",
      "           1       0.43      0.96      0.59      8803\n",
      "\n",
      "    accuracy                           0.89    103291\n",
      "   macro avg       0.71      0.92      0.76    103291\n",
      "weighted avg       0.95      0.89      0.91    103291\n",
      "\n"
     ]
    }
   ],
   "source": [
    "lr = LogisticRegression(random_state=42, max_iter=500)\n",
    "lr.fit(train_X, train_y)\n",
    "y_pred_valid = lr.predict(valid_X)\n",
    "print('Accuracy Score - ', accuracy_score(valid_y, y_pred_valid))\n",
    "print(classification_report(valid_y, y_pred_valid))"
   ]
  },
  {
   "cell_type": "markdown",
   "metadata": {},
   "source": [
    "Logistic regression looks to be a great model.  Let's take a look at other models and determine which performs best stock."
   ]
  },
  {
   "cell_type": "markdown",
   "metadata": {},
   "source": [
    "##### Neural Network"
   ]
  },
  {
   "cell_type": "code",
   "execution_count": 15,
   "metadata": {},
   "outputs": [
    {
     "name": "stdout",
     "output_type": "stream",
     "text": [
      "Accuracy Score -  0.8890125954826654\n",
      "              precision    recall  f1-score   support\n",
      "\n",
      "           0       1.00      0.88      0.94     94488\n",
      "           1       0.43      0.96      0.60      8803\n",
      "\n",
      "    accuracy                           0.89    103291\n",
      "   macro avg       0.71      0.92      0.77    103291\n",
      "weighted avg       0.95      0.89      0.91    103291\n",
      "\n"
     ]
    }
   ],
   "source": [
    "nn = MLPClassifier(random_state=42, max_iter=500)\n",
    "nn.fit(train_X, train_y)\n",
    "y_pred_valid = nn.predict(valid_X)\n",
    "print('Accuracy Score - ', accuracy_score(valid_y, y_pred_valid))\n",
    "print(classification_report(valid_y, y_pred_valid))"
   ]
  },
  {
   "cell_type": "markdown",
   "metadata": {},
   "source": [
    "Neural Networks also seem to output a great accuracy."
   ]
  },
  {
   "cell_type": "markdown",
   "metadata": {},
   "source": [
    "##### Random Forest"
   ]
  },
  {
   "cell_type": "code",
   "execution_count": 12,
   "metadata": {},
   "outputs": [
    {
     "name": "stdout",
     "output_type": "stream",
     "text": [
      "Accuracy Score -  0.9236816373159327\n",
      "              precision    recall  f1-score   support\n",
      "\n",
      "           0       1.00      0.92      0.96     94488\n",
      "           1       0.53      0.97      0.68      8803\n",
      "\n",
      "    accuracy                           0.92    103291\n",
      "   macro avg       0.76      0.95      0.82    103291\n",
      "weighted avg       0.96      0.92      0.93    103291\n",
      "\n"
     ]
    }
   ],
   "source": [
    "rf = RandomForestClassifier(random_state=42)\n",
    "rf.fit(train_X, train_y)\n",
    "y_pred_valid = rf.predict(valid_X)\n",
    "print('Accuracy Score - ', accuracy_score(valid_y, y_pred_valid))\n",
    "print(classification_report(valid_y, y_pred_valid))"
   ]
  },
  {
   "cell_type": "markdown",
   "metadata": {},
   "source": [
    "Random Forests have the highest accuracy of any model thus far, so we will explore it deeper."
   ]
  },
  {
   "cell_type": "markdown",
   "metadata": {},
   "source": [
    "The following code was created here: https://towardsdatascience.com/hyperparameter-tuning-the-random-forest-in-python-using-scikit-learn-28d2aa77dd74"
   ]
  },
  {
   "cell_type": "code",
   "execution_count": 18,
   "metadata": {},
   "outputs": [
    {
     "name": "stdout",
     "output_type": "stream",
     "text": [
      "{'bootstrap': True,\n",
      " 'ccp_alpha': 0.0,\n",
      " 'class_weight': None,\n",
      " 'criterion': 'gini',\n",
      " 'max_depth': None,\n",
      " 'max_features': 'auto',\n",
      " 'max_leaf_nodes': None,\n",
      " 'max_samples': None,\n",
      " 'min_impurity_decrease': 0.0,\n",
      " 'min_impurity_split': None,\n",
      " 'min_samples_leaf': 1,\n",
      " 'min_samples_split': 2,\n",
      " 'min_weight_fraction_leaf': 0.0,\n",
      " 'n_estimators': 100,\n",
      " 'n_jobs': None,\n",
      " 'oob_score': False,\n",
      " 'random_state': 42,\n",
      " 'verbose': 0,\n",
      " 'warm_start': False}\n"
     ]
    }
   ],
   "source": [
    "#Take a look at the default parameters for Random Forest\n",
    "from pprint import pprint\n",
    "\n",
    "pprint(rf.get_params())"
   ]
  },
  {
   "cell_type": "markdown",
   "metadata": {},
   "source": [
    "The best approach is to consider a subset of the parameters.  The sklearn documentation tell us that number of trees and number of features are two of the most importnat.  So we will tune those and some others."
   ]
  },
  {
   "cell_type": "code",
   "execution_count": 23,
   "metadata": {},
   "outputs": [],
   "source": [
    "#Number of trees\n",
    "n_estimators = [int(x) for x in np.linspace(start=200, stop=2000, num=10)]\n",
    "\n",
    "#Number of features\n",
    "max_features = ['auto', 'sqrt', 'log2']\n",
    "\n",
    "#Number of tree levels\n",
    "max_depth = [int(x) for x in np.linspace(10, 110, num=11)]\n",
    "max_depth.append(None)\n",
    "\n",
    "#Min number of samples to split\n",
    "min_samples_split = [2, 5, 10]\n",
    "\n",
    "#Min number of samples at leaf\n",
    "min_samples_leaf = [1, 2, 4]\n",
    "\n",
    "#Criterion\n",
    "criterion = ['gini', 'entropy', 'log_loss']\n",
    "\n",
    "#Bootstrap method\n",
    "bootstrap = [True, False]\n",
    "\n",
    "#Out of bag\n",
    "oob_score = [True, False]"
   ]
  },
  {
   "cell_type": "code",
   "execution_count": 24,
   "metadata": {},
   "outputs": [
    {
     "name": "stdout",
     "output_type": "stream",
     "text": [
      "{'bootstrap': [True, False],\n",
      " 'criterion': ['gini', 'entropy', 'log_loss'],\n",
      " 'max_depth': [10, 20, 30, 40, 50, 60, 70, 80, 90, 100, 110, None],\n",
      " 'max_features': ['auto', 'sqrt', 'log2'],\n",
      " 'min_samples_leaf': [1, 2, 4],\n",
      " 'min_samples_split': [2, 5, 10],\n",
      " 'n_estimators': [200, 400, 600, 800, 1000, 1200, 1400, 1600, 1800, 2000],\n",
      " 'oob_score': [True, False]}\n"
     ]
    }
   ],
   "source": [
    "#Create a random grid\n",
    "random_grid = {'n_estimators': n_estimators, 'max_features': max_features, 'max_depth': max_depth, \n",
    "               'min_samples_split': min_samples_split, 'min_samples_leaf': min_samples_leaf, 'criterion': criterion,\n",
    "              'bootstrap': bootstrap, 'oob_score': oob_score}\n",
    "\n",
    "pprint(random_grid)"
   ]
  },
  {
   "cell_type": "code",
   "execution_count": 25,
   "metadata": {},
   "outputs": [
    {
     "name": "stdout",
     "output_type": "stream",
     "text": [
      "Fitting 5 folds for each of 100 candidates, totalling 500 fits\n"
     ]
    },
    {
     "name": "stderr",
     "output_type": "stream",
     "text": [
      "C:\\Users\\Leonard\\miniconda3\\envs\\ADS500B\\lib\\site-packages\\sklearn\\model_selection\\_search.py:925: UserWarning: One or more of the test scores are non-finite: [       nan 0.91816352        nan 0.91793673 0.91835629        nan\n",
      "        nan        nan        nan 0.92229106 0.91951291 0.92181481\n",
      " 0.91944488        nan        nan 0.91792539 0.92982043 0.91956961\n",
      "        nan        nan        nan        nan 0.92277865 0.91795941\n",
      "        nan        nan 0.92186017 0.93655604 0.93584164 0.92320955\n",
      " 0.91828825 0.91946755        nan        nan 0.91949023 0.93949293\n",
      " 0.91837897 0.91831093 0.93405002 0.91970568 0.91953559 0.92826693\n",
      "        nan        nan        nan 0.92102106 0.91798209 0.91826557\n",
      " 0.91952425 0.91803879 0.91795941 0.91835629        nan 0.91798209\n",
      " 0.91792539 0.92183749 0.91792539        nan 0.92099838        nan\n",
      "        nan 0.94007125 0.91848102 0.92073756 0.91819754 0.918447\n",
      "        nan 0.94055883        nan 0.91984175        nan 0.92205294\n",
      " 0.94053616 0.91836763 0.94195357 0.91867379        nan 0.92132721\n",
      " 0.92112311 0.91797075 0.93225839        nan        nan        nan\n",
      " 0.92248383        nan 0.91834495        nan        nan 0.91963764\n",
      " 0.92420742        nan 0.9416134         nan 0.91799343        nan\n",
      "        nan        nan 0.91834495        nan]\n",
      "  category=UserWarning\n"
     ]
    },
    {
     "data": {
      "text/plain": [
       "RandomizedSearchCV(cv=5, estimator=RandomForestClassifier(), n_iter=100,\n",
       "                   n_jobs=-1,\n",
       "                   param_distributions={'bootstrap': [True, False],\n",
       "                                        'criterion': ['gini', 'entropy',\n",
       "                                                      'log_loss'],\n",
       "                                        'max_depth': [10, 20, 30, 40, 50, 60,\n",
       "                                                      70, 80, 90, 100, 110,\n",
       "                                                      None],\n",
       "                                        'max_features': ['auto', 'sqrt',\n",
       "                                                         'log2'],\n",
       "                                        'min_samples_leaf': [1, 2, 4],\n",
       "                                        'min_samples_split': [2, 5, 10],\n",
       "                                        'n_estimators': [200, 400, 600, 800,\n",
       "                                                         1000, 1200, 1400, 1600,\n",
       "                                                         1800, 2000],\n",
       "                                        'oob_score': [True, False]},\n",
       "                   random_state=42, verbose=2)"
      ]
     },
     "execution_count": 25,
     "metadata": {},
     "output_type": "execute_result"
    }
   ],
   "source": [
    "#Random Search Training\n",
    "rf_rs = RandomForestClassifier()\n",
    "\n",
    "#100 combinations, 5-fold cross validation\n",
    "rf_random = RandomizedSearchCV(estimator=rf_rs, param_distributions=random_grid, n_iter=100, cv=5, verbose=2, random_state=42,\n",
    "                              n_jobs=-1)\n",
    "\n",
    "rf_random.fit(train_X, train_y)"
   ]
  },
  {
   "cell_type": "code",
   "execution_count": 26,
   "metadata": {},
   "outputs": [
    {
     "data": {
      "text/plain": [
       "{'oob_score': False,\n",
       " 'n_estimators': 400,\n",
       " 'min_samples_split': 2,\n",
       " 'min_samples_leaf': 1,\n",
       " 'max_features': 'sqrt',\n",
       " 'max_depth': 40,\n",
       " 'criterion': 'gini',\n",
       " 'bootstrap': False}"
      ]
     },
     "execution_count": 26,
     "metadata": {},
     "output_type": "execute_result"
    }
   ],
   "source": [
    "#determine the best parameters\n",
    "rf_random.best_params_"
   ]
  },
  {
   "cell_type": "code",
   "execution_count": 8,
   "metadata": {},
   "outputs": [
    {
     "name": "stdout",
     "output_type": "stream",
     "text": [
      "Accuracy Score -  0.9290935318662807\n",
      "              precision    recall  f1-score   support\n",
      "\n",
      "           0       1.00      0.93      0.96     94488\n",
      "           1       0.55      0.97      0.70      8803\n",
      "\n",
      "    accuracy                           0.93    103291\n",
      "   macro avg       0.77      0.95      0.83    103291\n",
      "weighted avg       0.96      0.93      0.94    103291\n",
      "\n"
     ]
    }
   ],
   "source": [
    "#rerun the random forest model using the new parameters\n",
    "rf = RandomForestClassifier(oob_score=False, n_estimators=400, min_samples_split=2, min_samples_leaf=1, \n",
    "                            max_features='sqrt', max_depth=40, criterion='gini', bootstrap=False, random_state=42)\n",
    "rf.fit(train_X, train_y)\n",
    "y_pred_valid = rf.predict(valid_X)\n",
    "print('Accuracy Score - ', accuracy_score(valid_y, y_pred_valid))\n",
    "print(classification_report(valid_y, y_pred_valid))"
   ]
  },
  {
   "cell_type": "code",
   "execution_count": 40,
   "metadata": {},
   "outputs": [
    {
     "name": "stdout",
     "output_type": "stream",
     "text": [
      "0.585904745933258 % improvement\n"
     ]
    }
   ],
   "source": [
    "#determine the % improvement\n",
    "print((0.9290935318662807 - 0.9236816373159327) / 0.9236816373159327 * 100, '% improvement')"
   ]
  },
  {
   "cell_type": "markdown",
   "metadata": {},
   "source": [
    "A half percent improvement isn't great, but it is an improvment.  We can try to do even better with a grid search."
   ]
  },
  {
   "cell_type": "code",
   "execution_count": 41,
   "metadata": {},
   "outputs": [],
   "source": [
    "#Create a grid search based on the results of the random search\n",
    "cv_grid = {\n",
    "    'n_estimators': [300,400,500], \n",
    "    'max_features': ['sqrt'], \n",
    "    'max_depth': [30,40,50], \n",
    "    'min_samples_split': [1,2,3], \n",
    "    'min_samples_leaf': [0,1,2], \n",
    "    'criterion': ['gini'],\n",
    "    'bootstrap': [False], \n",
    "    'oob_score': [False]\n",
    "}\n",
    "\n",
    "rf_gs = RandomForestClassifier()"
   ]
  },
  {
   "cell_type": "code",
   "execution_count": 42,
   "metadata": {},
   "outputs": [],
   "source": [
    "#kick off the grid search model\n",
    "grid_search = GridSearchCV(estimator=rf_gs, param_grid=cv_grid, cv=5, n_jobs=-1, verbose=2)"
   ]
  },
  {
   "cell_type": "code",
   "execution_count": 43,
   "metadata": {},
   "outputs": [
    {
     "name": "stdout",
     "output_type": "stream",
     "text": [
      "Fitting 5 folds for each of 81 candidates, totalling 405 fits\n"
     ]
    },
    {
     "name": "stderr",
     "output_type": "stream",
     "text": [
      "C:\\Users\\Leonard\\miniconda3\\envs\\ADS500B\\lib\\site-packages\\sklearn\\model_selection\\_search.py:925: UserWarning: One or more of the test scores are non-finite: [       nan        nan        nan        nan        nan        nan\n",
      "        nan        nan        nan        nan        nan        nan\n",
      " 0.94000321 0.9397424  0.9401166  0.93924347 0.93915275 0.9388806\n",
      "        nan        nan        nan 0.92680414 0.92674744 0.9267928\n",
      " 0.92694021 0.92686083 0.92680414        nan        nan        nan\n",
      "        nan        nan        nan        nan        nan        nan\n",
      "        nan        nan        nan 0.94252055 0.94225975 0.94244118\n",
      " 0.94173813 0.94165876 0.94195358        nan        nan        nan\n",
      " 0.92929881 0.92890194 0.92940087 0.9290947  0.92923077 0.92902667\n",
      "        nan        nan        nan        nan        nan        nan\n",
      "        nan        nan        nan        nan        nan        nan\n",
      " 0.94208966 0.94233912 0.94225975 0.94176081 0.94168143 0.94171545\n",
      "        nan        nan        nan 0.92957096 0.92929881 0.92919675\n",
      " 0.92927614 0.92944623 0.9292648 ]\n",
      "  category=UserWarning\n"
     ]
    },
    {
     "data": {
      "text/plain": [
       "GridSearchCV(cv=5, estimator=RandomForestClassifier(), n_jobs=-1,\n",
       "             param_grid={'bootstrap': [False], 'criterion': ['gini'],\n",
       "                         'max_depth': [30, 40, 50], 'max_features': ['sqrt'],\n",
       "                         'min_samples_leaf': [0, 1, 2],\n",
       "                         'min_samples_split': [1, 2, 3],\n",
       "                         'n_estimators': [300, 400, 500],\n",
       "                         'oob_score': [False]},\n",
       "             verbose=2)"
      ]
     },
     "execution_count": 43,
     "metadata": {},
     "output_type": "execute_result"
    }
   ],
   "source": [
    "#fit the grid search\n",
    "grid_search.fit(train_X, train_y)"
   ]
  },
  {
   "cell_type": "code",
   "execution_count": 44,
   "metadata": {},
   "outputs": [
    {
     "data": {
      "text/plain": [
       "{'bootstrap': False,\n",
       " 'criterion': 'gini',\n",
       " 'max_depth': 40,\n",
       " 'max_features': 'sqrt',\n",
       " 'min_samples_leaf': 1,\n",
       " 'min_samples_split': 2,\n",
       " 'n_estimators': 300,\n",
       " 'oob_score': False}"
      ]
     },
     "execution_count": 44,
     "metadata": {},
     "output_type": "execute_result"
    }
   ],
   "source": [
    "#display the best params\n",
    "grid_search.best_params_"
   ]
  },
  {
   "cell_type": "code",
   "execution_count": 2,
   "metadata": {},
   "outputs": [
    {
     "ename": "NameError",
     "evalue": "name 'RandomForestClassifier' is not defined",
     "output_type": "error",
     "traceback": [
      "\u001b[1;31m---------------------------------------------------------------------------\u001b[0m",
      "\u001b[1;31mNameError\u001b[0m                                 Traceback (most recent call last)",
      "\u001b[1;32m<ipython-input-2-d63dcf99d4e5>\u001b[0m in \u001b[0;36m<module>\u001b[1;34m()\u001b[0m\n\u001b[0;32m      1\u001b[0m \u001b[1;31m#rerun the random forest model using the new parameters\u001b[0m\u001b[1;33m\u001b[0m\u001b[1;33m\u001b[0m\u001b[0m\n\u001b[1;32m----> 2\u001b[1;33m rf = RandomForestClassifier(oob_score=False, n_estimators=300, min_samples_split=2, min_samples_leaf=1, \n\u001b[0m\u001b[0;32m      3\u001b[0m                             max_features='sqrt', max_depth=40, criterion='gini', bootstrap=False, random_state=42)\n\u001b[0;32m      4\u001b[0m \u001b[0mrf\u001b[0m\u001b[1;33m.\u001b[0m\u001b[0mfit\u001b[0m\u001b[1;33m(\u001b[0m\u001b[0mtrain_X\u001b[0m\u001b[1;33m,\u001b[0m \u001b[0mtrain_y\u001b[0m\u001b[1;33m)\u001b[0m\u001b[1;33m\u001b[0m\u001b[0m\n\u001b[0;32m      5\u001b[0m \u001b[0my_pred_valid\u001b[0m \u001b[1;33m=\u001b[0m \u001b[0mrf\u001b[0m\u001b[1;33m.\u001b[0m\u001b[0mpredict\u001b[0m\u001b[1;33m(\u001b[0m\u001b[0mvalid_X\u001b[0m\u001b[1;33m)\u001b[0m\u001b[1;33m\u001b[0m\u001b[0m\n",
      "\u001b[1;31mNameError\u001b[0m: name 'RandomForestClassifier' is not defined"
     ]
    }
   ],
   "source": [
    "#rerun the random forest model using the new parameters\n",
    "rf = RandomForestClassifier(oob_score=False, n_estimators=300, min_samples_split=2, min_samples_leaf=1, \n",
    "                            max_features='sqrt', max_depth=40, criterion='gini', bootstrap=False, random_state=42)\n",
    "rf.fit(train_X, train_y)\n",
    "y_pred_valid = rf.predict(valid_X)\n",
    "print('Accuracy Score - ', accuracy_score(valid_y, y_pred_valid))\n",
    "print(classification_report(valid_y, y_pred_valid))"
   ]
  },
  {
   "cell_type": "code",
   "execution_count": 46,
   "metadata": {},
   "outputs": [
    {
     "name": "stdout",
     "output_type": "stream",
     "text": [
      "0.5670384034881701 % improvement\n"
     ]
    }
   ],
   "source": [
    "#determine the % improvement\n",
    "print((0.9289192669254823 - 0.9236816373159327) / 0.9236816373159327 * 100, '% improvement')"
   ]
  },
  {
   "cell_type": "markdown",
   "metadata": {},
   "source": [
    "The grid search proved to not be better than our random result.  So the parameters we tuned with the random search will be deemed our best model."
   ]
  },
  {
   "cell_type": "markdown",
   "metadata": {},
   "source": [
    "Let's look at what features the random forest deems as most important"
   ]
  },
  {
   "cell_type": "code",
   "execution_count": 51,
   "metadata": {},
   "outputs": [
    {
     "name": "stdout",
     "output_type": "stream",
     "text": [
      "                                         feature    importance       std\n",
      "6                                  Clinic Status  2.387410e-07  0.000002\n",
      "38  Proof Of ID_DO NOT USE!!!Immunization Record  1.192653e-06  0.000008\n",
      "19           Child Health Insurance Program Flag  4.342774e-06  0.000041\n",
      "53                Proof Of ID_TANF Benefit Proof  1.560311e-05  0.000018\n",
      "47             Proof Of ID_No Source of Identity  2.156165e-05  0.000019\n",
      "..                                           ...           ...       ...\n",
      "58                            TV/Video Viewing_3  4.343031e-02  0.062766\n",
      "8                               Household Income  4.416244e-02  0.002041\n",
      "84                   Participant Status_Inactive  7.491811e-02  0.109314\n",
      "4                               Terminated Count  2.577058e-01  0.242152\n",
      "5                             Disqualified Count  2.688113e-01  0.254816\n",
      "\n",
      "[88 rows x 3 columns]\n"
     ]
    }
   ],
   "source": [
    "#variable importance\n",
    "importances = rf.feature_importances_\n",
    "std = np.std([tree.feature_importances_ for tree in rf.estimators_], axis=0)\n",
    "df = pd.DataFrame({'feature': train_X.columns, 'importance': importances, 'std': std})\n",
    "df = df.sort_values('importance')\n",
    "print(df)"
   ]
  },
  {
   "cell_type": "markdown",
   "metadata": {},
   "source": [
    "##### XGBoost"
   ]
  },
  {
   "cell_type": "markdown",
   "metadata": {},
   "source": [
    "The following function and code is created by Aatshay Jain and has been modified to fit our needs. In this section, we see an optimal way for tuning the XGBoost hyper parameters. Link here: https://www.analyticsvidhya.com/blog/2016/03/complete-guide-parameter-tuning-xgboost-with-codes-python/"
   ]
  },
  {
   "cell_type": "code",
   "execution_count": 23,
   "metadata": {},
   "outputs": [],
   "source": [
    "def modelfit(alg, dtrain, predictors, useTrainCV=True, cv_folds=5, early_stopping_rounds=50):\n",
    "    \n",
    "    target = 'Certification Flag'\n",
    "    if useTrainCV:\n",
    "        xgb_param = alg.get_xgb_params()\n",
    "        xgtrain = xgb.DMatrix(dtrain[predictors].values, label=dtrain[target].values)\n",
    "        cvresult = xgb.cv(xgb_param, xgtrain, num_boost_round=alg.get_params()['n_estimators'], nfold=cv_folds,\n",
    "            metrics='auc', early_stopping_rounds=early_stopping_rounds) #, verbose_eval=False)\n",
    "        alg.set_params(n_estimators=cvresult.shape[0])\n",
    "    \n",
    "    #Fit the algorithm on the data\n",
    "    alg.fit(dtrain[predictors], dtrain[target],eval_metric='auc')\n",
    "        \n",
    "    #Predict training set:\n",
    "    dtrain_predictions = alg.predict(dtrain[predictors])\n",
    "    dtrain_predprob = alg.predict_proba(dtrain[predictors])[:,1]\n",
    "        \n",
    "    #Print model report:\n",
    "    print(\"\\nModel Report\")\n",
    "    print(\"Accuracy : %.4g\" % accuracy_score(dtrain[target].values, dtrain_predictions))\n",
    "    print(\"AUC Score (Train): %f\" % roc_auc_score(dtrain[target], dtrain_predprob))\n",
    "                    \n",
    "    # graphing feature importance\n",
    "    features = predictors\n",
    "    importances = alg.feature_importances_\n",
    "    indices = np.argsort(importances)\n",
    "    num_features = 20\n",
    "    plt.barh(range(num_features), importances[indices[-num_features:]], color='b', align='center')\n",
    "    plt.yticks(range(num_features), [features[i] for i in indices[-num_features:]])\n",
    "    plt.xlabel('Relative Importance')\n",
    "    plt.show()"
   ]
  },
  {
   "cell_type": "markdown",
   "metadata": {},
   "source": [
    "We will first try to find the 20 most important features based on the parameters below. This is to save time for the later hypertuning we will be conducting. Tuning all ~90 features takes upwards of 30min for each grid search, so the reduced data set will help with this."
   ]
  },
  {
   "cell_type": "code",
   "execution_count": 37,
   "metadata": {},
   "outputs": [
    {
     "name": "stderr",
     "output_type": "stream",
     "text": [
      "C:\\Users\\mzazu\\miniconda3\\envs\\ADS500B\\lib\\site-packages\\xgboost\\sklearn.py:797: UserWarning: `eval_metric` in `fit` method is deprecated for better compatibility with scikit-learn, use `eval_metric` in constructor or`set_params` instead.\n",
      "  UserWarning,\n"
     ]
    },
    {
     "name": "stdout",
     "output_type": "stream",
     "text": [
      "\n",
      "Model Report\n",
      "Accuracy : 0.9201\n",
      "AUC Score (Train): 0.956400\n"
     ]
    },
    {
     "data": {
      "image/png": "[encoded data removed]",
      "text/plain": [
       "<Figure size 432x288 with 1 Axes>"
      ]
     },
     "metadata": {
      "needs_background": "light"
     },
     "output_type": "display_data"
    }
   ],
   "source": [
    "train_X_y = pd.concat([train_X, train_y], axis = 1)\n",
    "predictors = [x for x in train_X.columns]\n",
    "xgb1 = XGBClassifier(\n",
    " learning_rate =0.1,\n",
    " max_depth=5,\n",
    " min_child_weight=1,\n",
    " gamma=0,\n",
    " subsample=0.8,\n",
    " colsample_bytree=0.8,\n",
    " objective= 'binary:logistic',\n",
    " nthread=4,\n",
    " scale_pos_weight=1,\n",
    " seed=42)\n",
    "modelfit(xgb1, train_X_y, predictors)"
   ]
  },
  {
   "cell_type": "markdown",
   "metadata": {},
   "source": [
    "Before we start tuning, lets see the validation set accuracy."
   ]
  },
  {
   "cell_type": "code",
   "execution_count": 46,
   "metadata": {},
   "outputs": [
    {
     "name": "stdout",
     "output_type": "stream",
     "text": [
      "Accuracy Score -  0.8809964082059424\n",
      "              precision    recall  f1-score   support\n",
      "\n",
      "           0       1.00      0.87      0.93     94488\n",
      "           1       0.41      0.96      0.58      8803\n",
      "\n",
      "    accuracy                           0.88    103291\n",
      "   macro avg       0.71      0.92      0.75    103291\n",
      "weighted avg       0.95      0.88      0.90    103291\n",
      "\n"
     ]
    }
   ],
   "source": [
    "xgb1.fit(train_X, train_y)\n",
    "y_pred_valid = xgb1.predict(valid_X)\n",
    "print('Accuracy Score - ', accuracy_score(valid_y, y_pred_valid))\n",
    "print(classification_report(valid_y, y_pred_valid))"
   ]
  },
  {
   "cell_type": "markdown",
   "metadata": {},
   "source": [
    "The XGBoost accuracy of 0.88 is much better than Naive Bayes at 0.61, but lets see what we can improve it to."
   ]
  },
  {
   "cell_type": "markdown",
   "metadata": {},
   "source": [
    "Now that we see the most important features for our XGBoost model, lets start tuning the hyperparameters. We will use these 20 features for our XGBoost modeling building, but we will use every feature for our final model. "
   ]
  },
  {
   "cell_type": "code",
   "execution_count": 53,
   "metadata": {},
   "outputs": [],
   "source": [
    "cols = ['Terminated Count', 'Disqualified Count', 'TV/Video Viewing_2', 'TV/Video Viewing_3', 'Participant Status_Inactive',\n",
    "       'Wic Category_NPP Non-Lactating Post-Partum', 'Proof Of ID_No Proof', 'Wic Priority Id_6',\n",
    "        'Wic Category_PG Woman Pregnant', 'Household Active Status_Inactive', 'Wic Priority Id_4', 'Application Count',\n",
    "       'Participating Count', 'Wic Category_C4 Child Age 4', 'Wic Priority Id_3', 'Proof Of ID_Crib card/Hospital Record',\n",
    "       'Wic Priority Id_5', 'Wic Category_IFF Infant Formula Fed', 'Wic Priority Id_1', 'Wic Category_C2 Child Age 2']\n",
    "\n",
    "train_X_boost = train_X[cols]"
   ]
  },
  {
   "cell_type": "markdown",
   "metadata": {},
   "source": [
    "Tuning max_depth and min_child_weight."
   ]
  },
  {
   "cell_type": "code",
   "execution_count": 39,
   "metadata": {},
   "outputs": [
    {
     "data": {
      "text/plain": [
       "({'mean_fit_time': array([0.77910666, 0.80392847, 0.73026228, 1.10640364, 1.09919748,\n",
       "         1.09679389, 1.57342744, 1.54640255, 1.53759508, 2.03564687,\n",
       "         1.99380875, 1.72496443]),\n",
       "  'std_fit_time': array([0.02703287, 0.05136312, 0.01974152, 0.00845932, 0.02114171,\n",
       "         0.00677144, 0.02109944, 0.02000804, 0.01067491, 0.02438138,\n",
       "         0.01766841, 0.24382765]),\n",
       "  'mean_score_time': array([0.02602372, 0.0212193 , 0.02081895, 0.02161922, 0.02202001,\n",
       "         0.0228209 , 0.02302089, 0.02322083, 0.02242031, 0.02402158,\n",
       "         0.02542319, 0.02222013]),\n",
       "  'std_score_time': array([0.00275915, 0.00204132, 0.0027156 , 0.00215596, 0.00089527,\n",
       "         0.00213726, 0.00063294, 0.00160151, 0.00206099, 0.00141532,\n",
       "         0.00233426, 0.00381935]),\n",
       "  'param_max_depth': masked_array(data=[3, 3, 3, 5, 5, 5, 7, 7, 7, 9, 9, 9],\n",
       "               mask=[False, False, False, False, False, False, False, False,\n",
       "                     False, False, False, False],\n",
       "         fill_value='?',\n",
       "              dtype=object),\n",
       "  'param_min_child_weight': masked_array(data=[1, 3, 5, 1, 3, 5, 1, 3, 5, 1, 3, 5],\n",
       "               mask=[False, False, False, False, False, False, False, False,\n",
       "                     False, False, False, False],\n",
       "         fill_value='?',\n",
       "              dtype=object),\n",
       "  'params': [{'max_depth': 3, 'min_child_weight': 1},\n",
       "   {'max_depth': 3, 'min_child_weight': 3},\n",
       "   {'max_depth': 3, 'min_child_weight': 5},\n",
       "   {'max_depth': 5, 'min_child_weight': 1},\n",
       "   {'max_depth': 5, 'min_child_weight': 3},\n",
       "   {'max_depth': 5, 'min_child_weight': 5},\n",
       "   {'max_depth': 7, 'min_child_weight': 1},\n",
       "   {'max_depth': 7, 'min_child_weight': 3},\n",
       "   {'max_depth': 7, 'min_child_weight': 5},\n",
       "   {'max_depth': 9, 'min_child_weight': 1},\n",
       "   {'max_depth': 9, 'min_child_weight': 3},\n",
       "   {'max_depth': 9, 'min_child_weight': 5}],\n",
       "  'split0_test_score': array([0.9341535 , 0.9341535 , 0.9341535 , 0.94014674, 0.94016833,\n",
       "         0.94015631, 0.94315387, 0.94313182, 0.94314534, 0.94365214,\n",
       "         0.9436084 , 0.94366304]),\n",
       "  'split1_test_score': array([0.9339694 , 0.9339694 , 0.9339694 , 0.93936907, 0.93936599,\n",
       "         0.93934159, 0.94249394, 0.94268589, 0.94264654, 0.94400245,\n",
       "         0.94387882, 0.94387677]),\n",
       "  'split2_test_score': array([0.93408983, 0.93408983, 0.93408983, 0.93943794, 0.9394348 ,\n",
       "         0.93944195, 0.94077468, 0.94020738, 0.94036909, 0.94231594,\n",
       "         0.94233991, 0.9422912 ]),\n",
       "  'split3_test_score': array([0.93444592, 0.93444592, 0.93444592, 0.9398476 , 0.93986963,\n",
       "         0.93984369, 0.9429687 , 0.94285289, 0.94243074, 0.94369533,\n",
       "         0.94378327, 0.94368111]),\n",
       "  'split4_test_score': array([0.93585979, 0.93585979, 0.93585979, 0.94150448, 0.94151316,\n",
       "         0.94150471, 0.94627758, 0.94623758, 0.94614862, 0.94617239,\n",
       "         0.94609053, 0.94614878]),\n",
       "  'mean_test_score': array([0.93450368, 0.93450368, 0.93450368, 0.94006117, 0.94007038,\n",
       "         0.94005765, 0.94313375, 0.94302311, 0.94294807, 0.94396765,\n",
       "         0.94394018, 0.94393218]),\n",
       "  'std_test_score': array([0.00069595, 0.00069595, 0.00069595, 0.00077505, 0.00077867,\n",
       "         0.00077991, 0.00178246, 0.00191915, 0.00185968, 0.00124611,\n",
       "         0.00121023, 0.00124456]),\n",
       "  'rank_test_score': array([10, 10, 10,  8,  7,  9,  4,  5,  6,  1,  2,  3])},\n",
       " {'max_depth': 9, 'min_child_weight': 1},\n",
       " 0.9439676522914142)"
      ]
     },
     "execution_count": 39,
     "metadata": {},
     "output_type": "execute_result"
    }
   ],
   "source": [
    "param_test1 = {\n",
    " 'max_depth':range(3,10,2),\n",
    " 'min_child_weight':range(1,6,2)\n",
    "}\n",
    "gsearch1 = GridSearchCV(estimator = XGBClassifier( learning_rate =0.1, n_estimators=20, max_depth=5,\n",
    " min_child_weight=1, gamma=0, subsample=0.8, colsample_bytree=0.8,\n",
    " objective= 'binary:logistic', nthread=4, scale_pos_weight=1, seed=42), \n",
    " param_grid = param_test1, scoring='roc_auc',n_jobs=4, cv=5)\n",
    "gsearch1.fit(train_X_boost,train_y)\n",
    "gsearch1.cv_results_, gsearch1.best_params_, gsearch1.best_score_"
   ]
  },
  {
   "cell_type": "markdown",
   "metadata": {},
   "source": [
    "From this analysis, we can choose a max_depth of 9 and a min_child_weight of 1 as the best values for these parameters."
   ]
  },
  {
   "cell_type": "markdown",
   "metadata": {},
   "source": [
    "Now, lets tune gamma with our new max_depth and min_child_weight parameters."
   ]
  },
  {
   "cell_type": "code",
   "execution_count": 43,
   "metadata": {},
   "outputs": [
    {
     "data": {
      "text/plain": [
       "({'mean_fit_time': array([2.03384552, 2.04305472, 2.10350947, 2.21561093, 1.87950573]),\n",
       "  'std_fit_time': array([0.01369451, 0.01413278, 0.01923775, 0.02457914, 0.59471875]),\n",
       "  'mean_score_time': array([0.03162861, 0.02882614, 0.02822556, 0.02902656, 0.02262063]),\n",
       "  'std_score_time': array([0.00512724, 0.00462582, 0.00349016, 0.00126591, 0.0052434 ]),\n",
       "  'param_gamma': masked_array(data=[0.0, 0.1, 0.2, 0.3, 0.4],\n",
       "               mask=[False, False, False, False, False],\n",
       "         fill_value='?',\n",
       "              dtype=object),\n",
       "  'params': [{'gamma': 0.0},\n",
       "   {'gamma': 0.1},\n",
       "   {'gamma': 0.2},\n",
       "   {'gamma': 0.3},\n",
       "   {'gamma': 0.4}],\n",
       "  'split0_test_score': array([0.94356883, 0.94347526, 0.94351119, 0.94370722, 0.94363519]),\n",
       "  'split1_test_score': array([0.94342013, 0.94343951, 0.94341421, 0.94337459, 0.9433806 ]),\n",
       "  'split2_test_score': array([0.94209703, 0.94207905, 0.94205537, 0.94203533, 0.94201119]),\n",
       "  'split3_test_score': array([0.94381734, 0.94380344, 0.94383352, 0.94383691, 0.9438535 ]),\n",
       "  'split4_test_score': array([0.94650715, 0.94645664, 0.94651517, 0.94647739, 0.94656447]),\n",
       "  'mean_test_score': array([0.9438821 , 0.94385078, 0.94386589, 0.94388629, 0.94388899]),\n",
       "  'std_test_score': array([0.00144174, 0.00143122, 0.00145791, 0.00144473, 0.00148381]),\n",
       "  'rank_test_score': array([3, 5, 4, 2, 1])},\n",
       " {'gamma': 0.4},\n",
       " 0.9438889888611899)"
      ]
     },
     "execution_count": 43,
     "metadata": {},
     "output_type": "execute_result"
    }
   ],
   "source": [
    "param_test2 = {\n",
    " 'gamma':[i/10.0 for i in range(0,5)]\n",
    "}\n",
    "gsearch2 = GridSearchCV(estimator = XGBClassifier( learning_rate =0.1, n_estimators=20, max_depth=9,\n",
    " min_child_weight=1, gamma=0, subsample=0.8, colsample_bytree=0.8,\n",
    " objective= 'binary:logistic', nthread=4, scale_pos_weight=1,seed=42), \n",
    " param_grid = param_test2, scoring='roc_auc',n_jobs=4, cv=5)\n",
    "gsearch2.fit(train_X_boost,train_y)\n",
    "gsearch2.cv_results_, gsearch2.best_params_, gsearch2.best_score_"
   ]
  },
  {
   "cell_type": "markdown",
   "metadata": {},
   "source": [
    "A gamma of 0.4 was determined to be the best value."
   ]
  },
  {
   "cell_type": "markdown",
   "metadata": {},
   "source": [
    "For our final step, lets tune subsample and colsample_bytree."
   ]
  },
  {
   "cell_type": "code",
   "execution_count": 44,
   "metadata": {},
   "outputs": [
    {
     "data": {
      "text/plain": [
       "({'mean_fit_time': array([1.80884051, 1.68652987, 1.62187128, 1.59104352, 1.96198063,\n",
       "         1.92714863, 1.8749011 , 1.80503764, 2.18218055, 2.21040554,\n",
       "         2.19860058, 2.13153996, 2.44581904, 2.34092426, 2.28207054,\n",
       "         2.13493676]),\n",
       "  'std_fit_time': array([0.0629512 , 0.01870376, 0.0200644 , 0.01797827, 0.04154168,\n",
       "         0.0515393 , 0.03969204, 0.03774134, 0.03208836, 0.05412894,\n",
       "         0.09682345, 0.0317085 , 0.04614832, 0.03131052, 0.0348864 ,\n",
       "         0.1103141 ]),\n",
       "  'mean_score_time': array([0.03242955, 0.03343058, 0.02882614, 0.02802515, 0.02882619,\n",
       "         0.02682409, 0.02582345, 0.02582369, 0.02322083, 0.02502322,\n",
       "         0.02602444, 0.02482243, 0.02502289, 0.02642417, 0.02742481,\n",
       "         0.02101917]),\n",
       "  'std_score_time': array([0.00905472, 0.00602539, 0.00417024, 0.00548233, 0.00581598,\n",
       "         0.00116705, 0.00074905, 0.00231667, 0.00256316, 0.00322811,\n",
       "         0.00283156, 0.00194067, 0.00126644, 0.00355882, 0.00344412,\n",
       "         0.00390191]),\n",
       "  'param_colsample_bytree': masked_array(data=[0.6, 0.6, 0.6, 0.6, 0.7, 0.7, 0.7, 0.7, 0.8, 0.8, 0.8,\n",
       "                     0.8, 0.9, 0.9, 0.9, 0.9],\n",
       "               mask=[False, False, False, False, False, False, False, False,\n",
       "                     False, False, False, False, False, False, False, False],\n",
       "         fill_value='?',\n",
       "              dtype=object),\n",
       "  'param_subsample': masked_array(data=[0.6, 0.7, 0.8, 0.9, 0.6, 0.7, 0.8, 0.9, 0.6, 0.7, 0.8,\n",
       "                     0.9, 0.6, 0.7, 0.8, 0.9],\n",
       "               mask=[False, False, False, False, False, False, False, False,\n",
       "                     False, False, False, False, False, False, False, False],\n",
       "         fill_value='?',\n",
       "              dtype=object),\n",
       "  'params': [{'colsample_bytree': 0.6, 'subsample': 0.6},\n",
       "   {'colsample_bytree': 0.6, 'subsample': 0.7},\n",
       "   {'colsample_bytree': 0.6, 'subsample': 0.8},\n",
       "   {'colsample_bytree': 0.6, 'subsample': 0.9},\n",
       "   {'colsample_bytree': 0.7, 'subsample': 0.6},\n",
       "   {'colsample_bytree': 0.7, 'subsample': 0.7},\n",
       "   {'colsample_bytree': 0.7, 'subsample': 0.8},\n",
       "   {'colsample_bytree': 0.7, 'subsample': 0.9},\n",
       "   {'colsample_bytree': 0.8, 'subsample': 0.6},\n",
       "   {'colsample_bytree': 0.8, 'subsample': 0.7},\n",
       "   {'colsample_bytree': 0.8, 'subsample': 0.8},\n",
       "   {'colsample_bytree': 0.8, 'subsample': 0.9},\n",
       "   {'colsample_bytree': 0.9, 'subsample': 0.6},\n",
       "   {'colsample_bytree': 0.9, 'subsample': 0.7},\n",
       "   {'colsample_bytree': 0.9, 'subsample': 0.8},\n",
       "   {'colsample_bytree': 0.9, 'subsample': 0.9}],\n",
       "  'split0_test_score': array([0.94047989, 0.94072094, 0.94061871, 0.94050604, 0.94308149,\n",
       "         0.94308397, 0.94325757, 0.94340707, 0.94325121, 0.94335657,\n",
       "         0.94363519, 0.94360523, 0.94373249, 0.94384244, 0.94369066,\n",
       "         0.94364165]),\n",
       "  'split1_test_score': array([0.94051923, 0.9408589 , 0.940604  , 0.94068555, 0.94363771,\n",
       "         0.94348831, 0.94364204, 0.94348277, 0.94381456, 0.94342274,\n",
       "         0.9433806 , 0.94353502, 0.94370784, 0.94358001, 0.94354199,\n",
       "         0.94355614]),\n",
       "  'split2_test_score': array([0.9398488 , 0.93981732, 0.94003735, 0.93998943, 0.94294173,\n",
       "         0.94273966, 0.9427795 , 0.94282936, 0.94193177, 0.94200694,\n",
       "         0.94201119, 0.94209139, 0.94218939, 0.94177891, 0.94211369,\n",
       "         0.9421389 ]),\n",
       "  'split3_test_score': array([0.94235408, 0.9428159 , 0.94306228, 0.94279302, 0.94329288,\n",
       "         0.94351255, 0.94352626, 0.94353933, 0.94359558, 0.9438798 ,\n",
       "         0.9438535 , 0.94388007, 0.94384727, 0.94384726, 0.9439778 ,\n",
       "         0.94396253]),\n",
       "  'split4_test_score': array([0.94569314, 0.94577033, 0.94564802, 0.9457856 , 0.94593112,\n",
       "         0.94617612, 0.94635667, 0.94635277, 0.94618592, 0.94625958,\n",
       "         0.94656447, 0.94641402, 0.94594414, 0.94623529, 0.94606955,\n",
       "         0.94661817]),\n",
       "  'mean_test_score': array([0.94177903, 0.94199668, 0.94199407, 0.94195193, 0.94377699,\n",
       "         0.94380012, 0.94391241, 0.94392226, 0.94375581, 0.94378513,\n",
       "         0.94388899, 0.94390515, 0.94388423, 0.94385678, 0.94387874,\n",
       "         0.94398348]),\n",
       "  'std_test_score': array([0.00212845, 0.00212524, 0.00210452, 0.00214244, 0.00110231,\n",
       "         0.0012217 , 0.00125769, 0.00124153, 0.00137959, 0.00138627,\n",
       "         0.00148381, 0.00140084, 0.0011976 , 0.00141787, 0.00127072,\n",
       "         0.00145904]),\n",
       "  'rank_test_score': array([16, 13, 14, 15, 11,  9,  3,  2, 12, 10,  5,  4,  6,  8,  7,  1])},\n",
       " {'colsample_bytree': 0.9, 'subsample': 0.9},\n",
       " 0.9439834807881773)"
      ]
     },
     "execution_count": 44,
     "metadata": {},
     "output_type": "execute_result"
    }
   ],
   "source": [
    "param_test3 = {\n",
    " 'subsample':[i/10.0 for i in range(6,10)],\n",
    " 'colsample_bytree':[i/10.0 for i in range(6,10)]\n",
    "}\n",
    "gsearch3 = GridSearchCV(estimator = XGBClassifier( learning_rate =0.1, n_estimators=20, max_depth=9,\n",
    " min_child_weight=1, gamma=0.4, subsample=0.8, colsample_bytree=0.8,\n",
    " objective= 'binary:logistic', nthread=4, scale_pos_weight=1,seed=42), \n",
    " param_grid = param_test3, scoring='roc_auc',n_jobs=4, cv=5)\n",
    "gsearch3.fit(train_X_boost,train_y)\n",
    "gsearch3.cv_results_, gsearch3.best_params_, gsearch3.best_score_"
   ]
  },
  {
   "cell_type": "markdown",
   "metadata": {},
   "source": [
    "Both 'colsample_bytree' and 'subsample' have an optimal value of 0.9."
   ]
  },
  {
   "cell_type": "markdown",
   "metadata": {},
   "source": [
    "Now, lets created a model with the newly tuned parameters."
   ]
  },
  {
   "cell_type": "code",
   "execution_count": 51,
   "metadata": {},
   "outputs": [
    {
     "name": "stdout",
     "output_type": "stream",
     "text": [
      "Accuracy Score -  0.8890416396394653\n",
      "              precision    recall  f1-score   support\n",
      "\n",
      "           0       1.00      0.88      0.94     94488\n",
      "           1       0.43      0.97      0.60      8803\n",
      "\n",
      "    accuracy                           0.89    103291\n",
      "   macro avg       0.71      0.92      0.77    103291\n",
      "weighted avg       0.95      0.89      0.91    103291\n",
      "\n"
     ]
    }
   ],
   "source": [
    "xgb_final = XGBClassifier(\n",
    " learning_rate =0.1,\n",
    " max_depth=9,\n",
    " min_child_weight=1,\n",
    " gamma=0.4,\n",
    " subsample=0.9,\n",
    " colsample_bytree=0.9,\n",
    " objective= 'binary:logistic',\n",
    " nthread=4,\n",
    " scale_pos_weight=1,\n",
    " seed=42)\n",
    "xgb_final.fit(train_X, train_y)\n",
    "y_pred_valid = xgb_final.predict(valid_X)\n",
    "print('Accuracy Score - ', accuracy_score(valid_y, y_pred_valid))\n",
    "print(classification_report(valid_y, y_pred_valid))"
   ]
  },
  {
   "cell_type": "markdown",
   "metadata": {},
   "source": [
    "Our model tuning increased the accuracy from 0.88 to 0.89, which is marginal. However, there was an improvement. Lets see what the test set accuracy is."
   ]
  },
  {
   "cell_type": "code",
   "execution_count": 66,
   "metadata": {},
   "outputs": [
    {
     "name": "stdout",
     "output_type": "stream",
     "text": [
      "Accuracy Score -  0.890522891636251\n",
      "              precision    recall  f1-score   support\n",
      "\n",
      "           0       1.00      0.88      0.94     94488\n",
      "           1       0.44      0.97      0.60      8803\n",
      "\n",
      "    accuracy                           0.89    103291\n",
      "   macro avg       0.72      0.93      0.77    103291\n",
      "weighted avg       0.95      0.89      0.91    103291\n",
      "\n"
     ]
    }
   ],
   "source": [
    "y_pred_test = xgb_final.predict(test_X)\n",
    "print('Accuracy Score - ', accuracy_score(test_y, y_pred_test))\n",
    "print(classification_report(test_y, y_pred_test))"
   ]
  },
  {
   "cell_type": "markdown",
   "metadata": {},
   "source": [
    "We get the same accuracy as our validation set. Now lets see the AUC. Note: The code used to build the ROC curve can be found here: https://stackoverflow.com/questions/33518129/r-xgboost-plot-roc-curve"
   ]
  },
  {
   "cell_type": "code",
   "execution_count": 10,
   "metadata": {},
   "outputs": [],
   "source": [
    "def buildROC(target_test,test_preds):\n",
    "    fpr, tpr, threshold = roc_curve(test_y, y_pred_test)\n",
    "    roc_auc = auc(fpr, tpr)\n",
    "    plt.title('Receiver Operating Characteristic')\n",
    "    plt.plot(fpr, tpr, 'b', label = 'AUC = %0.2f' % roc_auc)\n",
    "    plt.legend(loc = 'lower right')\n",
    "    plt.plot([0, 1], [0, 1],'r--')\n",
    "    plt.ylabel('True Positive Rate')\n",
    "    plt.xlabel('False Positive Rate')\n",
    "    #plt.gcf().savefig('roc.png')"
   ]
  },
  {
   "cell_type": "code",
   "execution_count": 64,
   "metadata": {},
   "outputs": [
    {
     "data": {
      "image/png": "[encoded data removed]",
      "text/plain": [
       "<Figure size 432x288 with 1 Axes>"
      ]
     },
     "metadata": {
      "needs_background": "light"
     },
     "output_type": "display_data"
    }
   ],
   "source": [
    "#XGBoost Best Model ROC Curve\n",
    "buildROC(test_y, y_pred_test)"
   ]
  },
  {
   "cell_type": "code",
   "execution_count": 12,
   "metadata": {},
   "outputs": [
    {
     "data": {
      "image/png": "[encoded data removed]",
      "text/plain": [
       "<Figure size 432x288 with 1 Axes>"
      ]
     },
     "metadata": {
      "needs_background": "light"
     },
     "output_type": "display_data"
    }
   ],
   "source": [
    "#Random Forest Best Model ROC Curve\n",
    "y_pred_test = rf.predict(test_X)\n",
    "\n",
    "buildROC(test_y, rf_y_pred_test)"
   ]
  },
  {
   "cell_type": "code",
   "execution_count": null,
   "metadata": {},
   "outputs": [],
   "source": []
  }
 ],
 "metadata": {
  "kernelspec": {
   "display_name": "Python 3",
   "language": "python",
   "name": "python3"
  },
  "language_info": {
   "codemirror_mode": {
    "name": "ipython",
    "version": 3
   },
   "file_extension": ".py",
   "mimetype": "text/x-python",
   "name": "python",
   "nbconvert_exporter": "python",
   "pygments_lexer": "ipython3",
   "version": "3.7.0"
  }
 },
 "nbformat": 4,
 "nbformat_minor": 4
}
